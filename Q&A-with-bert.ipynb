{
 "cells": [
  {
   "cell_type": "code",
   "execution_count": 1,
   "metadata": {},
   "outputs": [
    {
     "name": "stderr",
     "output_type": "stream",
     "text": [
      "Some weights of the model checkpoint at bert-large-uncased-whole-word-masking-finetuned-squad were not used when initializing BertForQuestionAnswering: ['bert.pooler.dense.bias', 'bert.pooler.dense.weight']\n",
      "- This IS expected if you are initializing BertForQuestionAnswering from the checkpoint of a model trained on another task or with another architecture (e.g. initializing a BertForSequenceClassification model from a BertForPreTraining model).\n",
      "- This IS NOT expected if you are initializing BertForQuestionAnswering from the checkpoint of a model that you expect to be exactly identical (initializing a BertForSequenceClassification model from a BertForSequenceClassification model).\n"
     ]
    }
   ],
   "source": [
    "from transformers import BertForQuestionAnswering, BertTokenizer\n",
    "import torch\n",
    "\n",
    "# Load the pre-trained BERT model and tokenizer\n",
    "model_name = 'bert-large-uncased-whole-word-masking-finetuned-squad' # Fine-tuned BERT model for Question Answering\n",
    "model = BertForQuestionAnswering.from_pretrained(model_name)\n",
    "tokenizer = BertTokenizer.from_pretrained(model_name)"
   ]
  },
  {
   "cell_type": "code",
   "execution_count": 3,
   "metadata": {},
   "outputs": [],
   "source": [
    "# Context of the story\n",
    "story = \"\"\"\n",
    "snow white short story Snow White Short Story\n",
    "The Witch’s Evil Plan\n",
    "One day, the witch asked her magic mirror a question. Mirror! Mirror! on the wall who is the most beautiful woman in this kingdom? And the mirror said, “Snow White” it is. The witch queen got very angry on hearing this. She ordered a soldier to take her away from the kingdom and kill her. Don’t forget to check out more Snow White Videos & Fun Facts.\n",
    "The witch said, “Beautiful child! take this delicious apple. I am sure that you have not tried anything like this before.” She took the apple and bit it without knowing the evil witch has poisoned the apple. She fell on the floor after taking the bite and never woke up. The little dwarfs got very sad and decided to place her on the flower bed.\n",
    "\"\"\"\n",
    "\n",
    "# Question to ask about the story\n",
    "question = \"Who ordered the soldier to take Snow White away from the kingdom?\""
   ]
  },
  {
   "cell_type": "code",
   "execution_count": 7,
   "metadata": {},
   "outputs": [],
   "source": [
    "def robot(contex, question):\n",
    "    # Tokenize the input text and question\n",
    "    inputs = tokenizer(question, contex, return_tensors=\"pt\")\n",
    "\n",
    "    # Get the answer\n",
    "    output = model(**inputs)\n",
    "\n",
    "    # Get start and end scores for answer\n",
    "    answer_start_scores = output.start_logits\n",
    "    answer_end_scores = output.end_logits\n",
    "\n",
    "    # Find start and end of answer\n",
    "    answer_start = torch.argmax(answer_start_scores)  # Get the most likely beginning of answer with the argmax of the score\n",
    "    answer_end = torch.argmax(answer_end_scores) + 1  # Get the most likely end of answer with the argmax of the score\n",
    "\n",
    "    # Convert tokens to string\n",
    "    answer = tokenizer.convert_tokens_to_string(tokenizer.convert_ids_to_tokens(inputs[\"input_ids\"][0][answer_start:answer_end]))\n",
    "    return answer"
   ]
  },
  {
   "cell_type": "code",
   "execution_count": 12,
   "metadata": {},
   "outputs": [
    {
     "data": {
      "text/plain": [
       "'apple'"
      ]
     },
     "execution_count": 12,
     "metadata": {},
     "output_type": "execute_result"
    }
   ],
   "source": [
    "robot(story, \"what's kind of fruit that witch give to snow white?\")"
   ]
  },
  {
   "cell_type": "code",
   "execution_count": 14,
   "metadata": {},
   "outputs": [
    {
     "data": {
      "text/plain": [
       "'magic mirror'"
      ]
     },
     "execution_count": 14,
     "metadata": {},
     "output_type": "execute_result"
    }
   ],
   "source": [
    "robot(story, \"with who the witch asked for?\")\n"
   ]
  },
  {
   "cell_type": "code",
   "execution_count": 15,
   "metadata": {},
   "outputs": [
    {
     "data": {
      "text/plain": [
       "'snow white'"
      ]
     },
     "execution_count": 15,
     "metadata": {},
     "output_type": "execute_result"
    }
   ],
   "source": [
    "robot(story, \"who is the most beautiful woman?\")"
   ]
  }
 ],
 "metadata": {
  "kernelspec": {
   "display_name": "Python 3",
   "language": "python",
   "name": "python3"
  },
  "language_info": {
   "codemirror_mode": {
    "name": "ipython",
    "version": 3
   },
   "file_extension": ".py",
   "mimetype": "text/x-python",
   "name": "python",
   "nbconvert_exporter": "python",
   "pygments_lexer": "ipython3",
   "version": "3.11.3"
  }
 },
 "nbformat": 4,
 "nbformat_minor": 2
}
